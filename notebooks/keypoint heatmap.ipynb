{
 "cells": [
  {
   "cell_type": "code",
   "execution_count": 5,
   "id": "dfff311f",
   "metadata": {},
   "outputs": [],
   "source": [
    "import os \n",
    "files = os.listdir('checkpoints/transformer')"
   ]
  },
  {
   "cell_type": "code",
   "execution_count": 13,
   "id": "e4ac6bc2",
   "metadata": {},
   "outputs": [
    {
     "name": "stdout",
     "output_type": "stream",
     "text": [
      "python train.py --learning_rate 0.0005 --n_epochs 10000 --model transformer --id 0811_embedding_dim_3_nlayers_3_dkv_2_nheads_2_lambdao_1 --embedding_dim 3 --n_layers 3 --d_k 2 --d_v 2 --n_heads 2 --lambda_o 1\n",
      "python train.py --learning_rate 0.0005 --n_epochs 10000 --model transformer --id 0811_embedding_dim_3_nlayers_3_dkv_2_nheads_2_lambdao_10 --embedding_dim 3 --n_layers 3 --d_k 2 --d_v 2 --n_heads 2 --lambda_o 10\n",
      "python train.py --learning_rate 0.0005 --n_epochs 10000 --model transformer --id 0811_embedding_dim_3_nlayers_3_dkv_2_nheads_2_lambdao_100 --embedding_dim 3 --n_layers 3 --d_k 2 --d_v 2 --n_heads 2 --lambda_o 100\n",
      "python train.py --learning_rate 0.0005 --n_epochs 10000 --model transformer --id 0811_embedding_dim_3_nlayers_3_dkv_2_nheads_2_lambdao_50 --embedding_dim 3 --n_layers 3 --d_k 2 --d_v 2 --n_heads 2 --lambda_o 50\n",
      "python train.py --learning_rate 0.0005 --n_epochs 10000 --model transformer --id 0811_embedding_dim_3_nlayers_3_dkv_2_nheads_4_lambdao_1 --embedding_dim 3 --n_layers 3 --d_k 2 --d_v 2 --n_heads 4 --lambda_o 1\n",
      "python train.py --learning_rate 0.0005 --n_epochs 10000 --model transformer --id 0811_embedding_dim_3_nlayers_3_dkv_2_nheads_4_lambdao_10 --embedding_dim 3 --n_layers 3 --d_k 2 --d_v 2 --n_heads 4 --lambda_o 10\n",
      "python train.py --learning_rate 0.0005 --n_epochs 10000 --model transformer --id 0811_embedding_dim_3_nlayers_3_dkv_2_nheads_4_lambdao_100 --embedding_dim 3 --n_layers 3 --d_k 2 --d_v 2 --n_heads 4 --lambda_o 100\n",
      "python train.py --learning_rate 0.0005 --n_epochs 10000 --model transformer --id 0811_embedding_dim_3_nlayers_3_dkv_2_nheads_4_lambdao_50 --embedding_dim 3 --n_layers 3 --d_k 2 --d_v 2 --n_heads 4 --lambda_o 50\n",
      "python train.py --learning_rate 0.0005 --n_epochs 10000 --model transformer --id 0811_embedding_dim_3_nlayers_3_dkv_2_nheads_6_lambdao_1 --embedding_dim 3 --n_layers 3 --d_k 2 --d_v 2 --n_heads 6 --lambda_o 1\n",
      "python train.py --learning_rate 0.0005 --n_epochs 10000 --model transformer --id 0811_embedding_dim_3_nlayers_3_dkv_2_nheads_6_lambdao_10 --embedding_dim 3 --n_layers 3 --d_k 2 --d_v 2 --n_heads 6 --lambda_o 10\n",
      "python train.py --learning_rate 0.0005 --n_epochs 10000 --model transformer --id 0811_embedding_dim_3_nlayers_3_dkv_2_nheads_6_lambdao_100 --embedding_dim 3 --n_layers 3 --d_k 2 --d_v 2 --n_heads 6 --lambda_o 100\n",
      "python train.py --learning_rate 0.0005 --n_epochs 10000 --model transformer --id 0811_embedding_dim_3_nlayers_3_dkv_2_nheads_6_lambdao_50 --embedding_dim 3 --n_layers 3 --d_k 2 --d_v 2 --n_heads 6 --lambda_o 50\n",
      "python train.py --learning_rate 0.0005 --n_epochs 10000 --model transformer --id 0811_embedding_dim_3_nlayers_3_dkv_4_nheads_2_lambdao_1 --embedding_dim 3 --n_layers 3 --d_k 4 --d_v 4 --n_heads 2 --lambda_o 1\n",
      "python train.py --learning_rate 0.0005 --n_epochs 10000 --model transformer --id 0811_embedding_dim_3_nlayers_3_dkv_4_nheads_2_lambdao_10 --embedding_dim 3 --n_layers 3 --d_k 4 --d_v 4 --n_heads 2 --lambda_o 10\n",
      "python train.py --learning_rate 0.0005 --n_epochs 10000 --model transformer --id 0811_embedding_dim_3_nlayers_3_dkv_4_nheads_2_lambdao_100 --embedding_dim 3 --n_layers 3 --d_k 4 --d_v 4 --n_heads 2 --lambda_o 100\n",
      "python train.py --learning_rate 0.0005 --n_epochs 10000 --model transformer --id 0811_embedding_dim_3_nlayers_3_dkv_4_nheads_2_lambdao_50 --embedding_dim 3 --n_layers 3 --d_k 4 --d_v 4 --n_heads 2 --lambda_o 50\n",
      "python train.py --learning_rate 0.0005 --n_epochs 10000 --model transformer --id 0811_embedding_dim_3_nlayers_3_dkv_4_nheads_4_lambdao_1 --embedding_dim 3 --n_layers 3 --d_k 4 --d_v 4 --n_heads 4 --lambda_o 1\n",
      "python train.py --learning_rate 0.0005 --n_epochs 10000 --model transformer --id 0811_embedding_dim_3_nlayers_3_dkv_4_nheads_4_lambdao_10 --embedding_dim 3 --n_layers 3 --d_k 4 --d_v 4 --n_heads 4 --lambda_o 10\n",
      "python train.py --learning_rate 0.0005 --n_epochs 10000 --model transformer --id 0811_embedding_dim_3_nlayers_3_dkv_4_nheads_4_lambdao_100 --embedding_dim 3 --n_layers 3 --d_k 4 --d_v 4 --n_heads 4 --lambda_o 100\n",
      "python train.py --learning_rate 0.0005 --n_epochs 10000 --model transformer --id 0811_embedding_dim_3_nlayers_3_dkv_4_nheads_4_lambdao_50 --embedding_dim 3 --n_layers 3 --d_k 4 --d_v 4 --n_heads 4 --lambda_o 50\n",
      "python train.py --learning_rate 0.0005 --n_epochs 10000 --model transformer --id 0811_embedding_dim_3_nlayers_3_dkv_4_nheads_6_lambdao_1 --embedding_dim 3 --n_layers 3 --d_k 4 --d_v 4 --n_heads 6 --lambda_o 1\n",
      "python train.py --learning_rate 0.0005 --n_epochs 10000 --model transformer --id 0811_embedding_dim_3_nlayers_3_dkv_4_nheads_6_lambdao_10 --embedding_dim 3 --n_layers 3 --d_k 4 --d_v 4 --n_heads 6 --lambda_o 10\n",
      "python train.py --learning_rate 0.0005 --n_epochs 10000 --model transformer --id 0811_embedding_dim_3_nlayers_3_dkv_4_nheads_6_lambdao_100 --embedding_dim 3 --n_layers 3 --d_k 4 --d_v 4 --n_heads 6 --lambda_o 100\n",
      "python train.py --learning_rate 0.0005 --n_epochs 10000 --model transformer --id 0811_embedding_dim_3_nlayers_3_dkv_4_nheads_6_lambdao_50 --embedding_dim 3 --n_layers 3 --d_k 4 --d_v 4 --n_heads 6 --lambda_o 50\n",
      "python train.py --learning_rate 0.0005 --n_epochs 10000 --model transformer --id 0811_embedding_dim_3_nlayers_3_dkv_6_nheads_2_lambdao_1 --embedding_dim 3 --n_layers 3 --d_k 6 --d_v 6 --n_heads 2 --lambda_o 1\n",
      "python train.py --learning_rate 0.0005 --n_epochs 10000 --model transformer --id 0811_embedding_dim_3_nlayers_3_dkv_6_nheads_2_lambdao_10 --embedding_dim 3 --n_layers 3 --d_k 6 --d_v 6 --n_heads 2 --lambda_o 10\n",
      "python train.py --learning_rate 0.0005 --n_epochs 10000 --model transformer --id 0811_embedding_dim_3_nlayers_3_dkv_6_nheads_2_lambdao_100 --embedding_dim 3 --n_layers 3 --d_k 6 --d_v 6 --n_heads 2 --lambda_o 100\n",
      "python train.py --learning_rate 0.0005 --n_epochs 10000 --model transformer --id 0811_embedding_dim_3_nlayers_3_dkv_6_nheads_2_lambdao_50 --embedding_dim 3 --n_layers 3 --d_k 6 --d_v 6 --n_heads 2 --lambda_o 50\n",
      "python train.py --learning_rate 0.0005 --n_epochs 10000 --model transformer --id 0811_embedding_dim_3_nlayers_3_dkv_6_nheads_4_lambdao_1 --embedding_dim 3 --n_layers 3 --d_k 6 --d_v 6 --n_heads 4 --lambda_o 1\n",
      "python train.py --learning_rate 0.0005 --n_epochs 10000 --model transformer --id 0811_embedding_dim_3_nlayers_3_dkv_6_nheads_4_lambdao_10 --embedding_dim 3 --n_layers 3 --d_k 6 --d_v 6 --n_heads 4 --lambda_o 10\n",
      "python train.py --learning_rate 0.0005 --n_epochs 10000 --model transformer --id 0811_embedding_dim_3_nlayers_3_dkv_6_nheads_4_lambdao_100 --embedding_dim 3 --n_layers 3 --d_k 6 --d_v 6 --n_heads 4 --lambda_o 100\n",
      "python train.py --learning_rate 0.0005 --n_epochs 10000 --model transformer --id 0811_embedding_dim_3_nlayers_3_dkv_6_nheads_4_lambdao_50 --embedding_dim 3 --n_layers 3 --d_k 6 --d_v 6 --n_heads 4 --lambda_o 50\n",
      "python train.py --learning_rate 0.0005 --n_epochs 10000 --model transformer --id 0811_embedding_dim_3_nlayers_3_dkv_6_nheads_6_lambdao_1 --embedding_dim 3 --n_layers 3 --d_k 6 --d_v 6 --n_heads 6 --lambda_o 1\n",
      "python train.py --learning_rate 0.0005 --n_epochs 10000 --model transformer --id 0813_embedding_dim_3_nlayers_3_dkv_2_nheads_2_lambdao_1 --embedding_dim 3 --n_layers 3 --d_k 2 --d_v 2 --n_heads 2 --lambda_o 1\n",
      "python train.py --learning_rate 0.0005 --n_epochs 10000 --model transformer --id 0813_embedding_dim_3_nlayers_3_dkv_2_nheads_2_lambdao_10 --embedding_dim 3 --n_layers 3 --d_k 2 --d_v 2 --n_heads 2 --lambda_o 10\n",
      "python train.py --learning_rate 0.0005 --n_epochs 10000 --model transformer --id 0813_embedding_dim_3_nlayers_3_dkv_2_nheads_2_lambdao_100 --embedding_dim 3 --n_layers 3 --d_k 2 --d_v 2 --n_heads 2 --lambda_o 100\n",
      "python train.py --learning_rate 0.0005 --n_epochs 10000 --model transformer --id 0813_embedding_dim_3_nlayers_3_dkv_2_nheads_2_lambdao_50 --embedding_dim 3 --n_layers 3 --d_k 2 --d_v 2 --n_heads 2 --lambda_o 50\n",
      "python train.py --learning_rate 0.0005 --n_epochs 10000 --model transformer --id 0813_embedding_dim_5_nlayers_5_dkv_4_nheads_4_lambdao_1 --embedding_dim 5 --n_layers 5 --d_k 4 --d_v 4 --n_heads 4 --lambda_o 1\n",
      "python train.py --learning_rate 0.0005 --n_epochs 10000 --model transformer --id 0813_embedding_dim_5_nlayers_5_dkv_4_nheads_4_lambdao_10 --embedding_dim 5 --n_layers 5 --d_k 4 --d_v 4 --n_heads 4 --lambda_o 10\n",
      "python train.py --learning_rate 0.0005 --n_epochs 10000 --model transformer --id 0813_embedding_dim_5_nlayers_5_dkv_4_nheads_4_lambdao_100 --embedding_dim 5 --n_layers 5 --d_k 4 --d_v 4 --n_heads 4 --lambda_o 100\n",
      "python train.py --learning_rate 0.0005 --n_epochs 10000 --model transformer --id 0813_embedding_dim_5_nlayers_5_dkv_4_nheads_4_lambdao_50 --embedding_dim 5 --n_layers 5 --d_k 4 --d_v 4 --n_heads 4 --lambda_o 50\n",
      "python train.py --learning_rate 0.0005 --n_epochs 10000 --model transformer --id 0813_embedding_dim_7_nlayers_7_dkv_6_nheads_6_lambdao_1 --embedding_dim 7 --n_layers 7 --d_k 6 --d_v 6 --n_heads 6 --lambda_o 1\n"
     ]
    }
   ],
   "source": [
    "for i in files[10:-1] :\n",
    "    id_ = i\n",
    "    date, _, _, embeddimg_dim, _, nlayers, _, dkv, _, nheads, _, lambdao = i.split('_')\n",
    "    print(f'python test.py --learning_rate 0.0005 --n_epochs 10000 --model transformer --id {id_} --embedding_dim {embeddimg_dim} --n_layers {nlayers} --d_k {dkv} --d_v {dkv} --n_heads {nheads} --lambda_o {lambdao}')\n",
    "    "
   ]
  },
  {
   "cell_type": "code",
   "execution_count": 11,
   "id": "757722b0",
   "metadata": {},
   "outputs": [
    {
     "data": {
      "text/plain": [
       "['0813',\n",
       " 'embedding',\n",
       " 'dim',\n",
       " '7',\n",
       " 'nlayers',\n",
       " '7',\n",
       " 'dkv',\n",
       " '6',\n",
       " 'nheads',\n",
       " '6',\n",
       " 'lambdao',\n",
       " '1']"
      ]
     },
     "execution_count": 11,
     "metadata": {},
     "output_type": "execute_result"
    }
   ],
   "source": [
    "# python train.py --learning_rate 0.0005 --n_epochs 10000 --model transformer --id 0813_embedding_dim_7_nlayers_7_dkv_6_nheads_6_lambdao_1 --embedding_dim 7 --n_layers 7 --d_k 6 --d_v 6 --n_heads 6 --lambda_o 1\n",
    "i.split('_')"
   ]
  },
  {
   "cell_type": "code",
   "execution_count": null,
   "id": "cc896ff1",
   "metadata": {},
   "outputs": [],
   "source": []
  }
 ],
 "metadata": {
  "kernelspec": {
   "display_name": "Python 3 (ipykernel)",
   "language": "python",
   "name": "python3"
  },
  "language_info": {
   "codemirror_mode": {
    "name": "ipython",
    "version": 3
   },
   "file_extension": ".py",
   "mimetype": "text/x-python",
   "name": "python",
   "nbconvert_exporter": "python",
   "pygments_lexer": "ipython3",
   "version": "3.9.12"
  }
 },
 "nbformat": 4,
 "nbformat_minor": 5
}
