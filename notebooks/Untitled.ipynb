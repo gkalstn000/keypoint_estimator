{
 "cells": [
  {
   "cell_type": "code",
   "execution_count": 12,
   "id": "fdb6013e",
   "metadata": {},
   "outputs": [
    {
     "name": "stdout",
     "output_type": "stream",
     "text": [
      "python train.py --n_epochs 15000 --model transformer --id 0813_embedding_dim_3_nlayers_3_dkv_2_nheads_2_lambdao_1 --embedding_dim 3 --n_layers 3 --d_k 2 --d_v 2 --n_heads 2 --lambda_o 1\n",
      "python train.py --n_epochs 15000 --model transformer --id 0813_embedding_dim_3_nlayers_3_dkv_2_nheads_2_lambdao_10 --embedding_dim 3 --n_layers 3 --d_k 2 --d_v 2 --n_heads 2 --lambda_o 10\n",
      "python train.py --n_epochs 15000 --model transformer --id 0813_embedding_dim_3_nlayers_3_dkv_2_nheads_2_lambdao_50 --embedding_dim 3 --n_layers 3 --d_k 2 --d_v 2 --n_heads 2 --lambda_o 50\n",
      "python train.py --n_epochs 15000 --model transformer --id 0813_embedding_dim_3_nlayers_3_dkv_2_nheads_2_lambdao_100 --embedding_dim 3 --n_layers 3 --d_k 2 --d_v 2 --n_heads 2 --lambda_o 100\n",
      "python train.py --n_epochs 15000 --model transformer --id 0813_embedding_dim_5_nlayers_5_dkv_4_nheads_4_lambdao_1 --embedding_dim 5 --n_layers 5 --d_k 4 --d_v 4 --n_heads 4 --lambda_o 1\n",
      "python train.py --n_epochs 15000 --model transformer --id 0813_embedding_dim_5_nlayers_5_dkv_4_nheads_4_lambdao_10 --embedding_dim 5 --n_layers 5 --d_k 4 --d_v 4 --n_heads 4 --lambda_o 10\n",
      "python train.py --n_epochs 15000 --model transformer --id 0813_embedding_dim_5_nlayers_5_dkv_4_nheads_4_lambdao_50 --embedding_dim 5 --n_layers 5 --d_k 4 --d_v 4 --n_heads 4 --lambda_o 50\n",
      "python train.py --n_epochs 15000 --model transformer --id 0813_embedding_dim_5_nlayers_5_dkv_4_nheads_4_lambdao_100 --embedding_dim 5 --n_layers 5 --d_k 4 --d_v 4 --n_heads 4 --lambda_o 100\n",
      "python train.py --n_epochs 15000 --model transformer --id 0813_embedding_dim_7_nlayers_7_dkv_6_nheads_6_lambdao_1 --embedding_dim 7 --n_layers 7 --d_k 6 --d_v 6 --n_heads 6 --lambda_o 1\n",
      "python train.py --n_epochs 15000 --model transformer --id 0813_embedding_dim_7_nlayers_7_dkv_6_nheads_6_lambdao_10 --embedding_dim 7 --n_layers 7 --d_k 6 --d_v 6 --n_heads 6 --lambda_o 10\n",
      "python train.py --n_epochs 15000 --model transformer --id 0813_embedding_dim_7_nlayers_7_dkv_6_nheads_6_lambdao_50 --embedding_dim 7 --n_layers 7 --d_k 6 --d_v 6 --n_heads 6 --lambda_o 50\n",
      "python train.py --n_epochs 15000 --model transformer --id 0813_embedding_dim_7_nlayers_7_dkv_6_nheads_6_lambdao_100 --embedding_dim 7 --n_layers 7 --d_k 6 --d_v 6 --n_heads 6 --lambda_o 100\n"
     ]
    }
   ],
   "source": [
    "'''\n",
    "바꿀 파라미터들\n",
    "embedding_dim\n",
    "n_layers\n",
    "d_k, d_v\n",
    "n_heads\n",
    "lambda_o\n",
    "id\n",
    "'''\n",
    "from itertools import product\n",
    "embedding_dims = [3, 5, 7]\n",
    "n_layerss = [3, 5, 7]\n",
    "d_kvs = [2, 4, 6]\n",
    "n_headss = [2, 4, 6]\n",
    "\n",
    "params = [[3, 3, 2, 2], [5, 5, 4, 4], [7, 7, 6, 6]]\n",
    "lambda_os = [1, 10, 50, 100]\n",
    "\n",
    "for embedding_dim, n_layers, d_kv, n_heads in params :\n",
    "    for lambda_o in lambda_os :\n",
    "        ex_id = f'0813_embedding_dim_{embedding_dim}_nlayers_{n_layers}_dkv_{d_kv}_nheads_{n_heads}_lambdao_{lambda_o}'\n",
    "        print(f'python train.py --n_epochs 15000 --model transformer --id {ex_id} --embedding_dim {embedding_dim} --n_layers {n_layers} --d_k {d_kv} --d_v {d_kv} --n_heads {n_heads} --lambda_o {lambda_o}')\n",
    "    \n",
    "    \n",
    "    \n",
    "    \n",
    "    \n",
    "    \n",
    "    \n",
    "    "
   ]
  },
  {
   "cell_type": "code",
   "execution_count": null,
   "id": "20b4ccb6",
   "metadata": {},
   "outputs": [],
   "source": []
  }
 ],
 "metadata": {
  "kernelspec": {
   "display_name": "Python 3",
   "language": "python",
   "name": "python3"
  },
  "language_info": {
   "codemirror_mode": {
    "name": "ipython",
    "version": 3
   },
   "file_extension": ".py",
   "mimetype": "text/x-python",
   "name": "python",
   "nbconvert_exporter": "python",
   "pygments_lexer": "ipython3",
   "version": "3.8.8"
  }
 },
 "nbformat": 4,
 "nbformat_minor": 5
}
