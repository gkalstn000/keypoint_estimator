{
 "cells": [
  {
   "cell_type": "code",
   "execution_count": 127,
   "id": "f49a377b",
   "metadata": {},
   "outputs": [],
   "source": [
    "import pandas as pd\n",
    "import numpy as np\n",
    "import os\n",
    "from PIL import Image\n",
    "from tqdm import tqdm\n",
    "import json\n",
    "import matplotlib.pyplot as plt\n",
    "import random\n"
   ]
  },
  {
   "cell_type": "code",
   "execution_count": 118,
   "id": "ae58b371",
   "metadata": {},
   "outputs": [],
   "source": [
    "def keypoint_process(keypoint) :\n",
    "    keypoint = keypoint.replace('[ ', '[')\n",
    "    keypoint = keypoint.replace('  ', ' ')\n",
    "    keypoint = keypoint.replace(' ', ', ')\n",
    "    return keypoint\n",
    "def ochuman_to_array(df) :\n",
    "    data_list = []\n",
    "    for index, (name, keypoints_y, keypoints_x, label) in df.iterrows() :\n",
    "        keypoints_y = json.loads(keypoint_process(keypoints_y))\n",
    "        keypoints_x = json.loads(keypoint_process(keypoints_x))\n",
    "        label = json.loads(keypoint_process(label))\n",
    "        data_list.append([[h, w, l] for h, w, l in zip(keypoints_y, keypoints_x, label)])\n",
    "    return np.array(data_list)\n",
    "\n",
    "def fashion_to_array(df) :\n",
    "    data_list = []\n",
    "    for index, (name, keypoints_y, keypoints_x) in df.iterrows() :\n",
    "        keypoints_y = json.loads(keypoints_y)\n",
    "        keypoints_x = json.loads(keypoints_x)\n",
    "        if -1 in keypoints_y or -1 in keypoints_x : continue # 18개짜리 keypoint만\n",
    "        data_list.append([[h, w, 0] for h, w in zip(keypoints_y, keypoints_x)])\n",
    "    return np.array(data_list)"
   ]
  },
  {
   "cell_type": "code",
   "execution_count": 119,
   "id": "b3a98089",
   "metadata": {},
   "outputs": [],
   "source": [
    "df_ochuman = pd.read_csv('human/occlusion_df.csv', sep=\":\")\n",
    "df_fasion_train = pd.read_csv('human/fasion-annotation-train.csv', sep=\":\")\n",
    "df_fasion_test = pd.read_csv('human/fasion-annotation-test.csv', sep=\":\")"
   ]
  },
  {
   "cell_type": "code",
   "execution_count": 120,
   "id": "c3efab06",
   "metadata": {
    "scrolled": true
   },
   "outputs": [],
   "source": [
    "ochuman_array = ochuman_to_array(df_ochuman)\n",
    "fashion_train_array = fashion_to_array(df_fasion_train)\n",
    "fashion_train_array[3566, 9, 1] = 0\n",
    "fashion_test_array = fashion_to_array(df_fasion_test)"
   ]
  },
  {
   "cell_type": "code",
   "execution_count": 121,
   "id": "ea9e06bd",
   "metadata": {},
   "outputs": [
    {
     "name": "stdout",
     "output_type": "stream",
     "text": [
      "OCHuman shape: (8110, 18, 3)\n",
      "Fashion train shape: (7979, 18, 3)\n",
      "Fashion test shape: (627, 18, 3)\n"
     ]
    }
   ],
   "source": [
    "print('OCHuman shape:', ochuman_array.shape)\n",
    "print('Fashion train shape:', fashion_train_array.shape)\n",
    "print('Fashion test shape:', fashion_test_array.shape)"
   ]
  },
  {
   "cell_type": "code",
   "execution_count": 122,
   "id": "60ec6dce",
   "metadata": {},
   "outputs": [],
   "source": [
    "dataset = np.concatenate([ochuman_array, fashion_train_array, fashion_test_array], axis = 0)"
   ]
  },
  {
   "cell_type": "code",
   "execution_count": 123,
   "id": "6676afed",
   "metadata": {},
   "outputs": [
    {
     "data": {
      "text/plain": [
       "array([0.        , 0.08817899, 0.05587461, 0.04881551, 0.06095956,\n",
       "       0.06155779, 0.05784877, 0.06999282, 0.06448911, 0.02901412,\n",
       "       0.02327112, 0.07005264, 0.03062934, 0.02285236, 0.        ,\n",
       "       0.        , 0.        , 0.        ])"
      ]
     },
     "execution_count": 123,
     "metadata": {},
     "output_type": "execute_result"
    }
   ],
   "source": [
    "dataset[:, :, 2].mean(0)"
   ]
  },
  {
   "cell_type": "code",
   "execution_count": 126,
   "id": "9c4a18ec",
   "metadata": {},
   "outputs": [
    {
     "data": {
      "text/plain": [
       "array([0.        , 0.18175092, 0.11516646, 0.10061652, 0.12564735,\n",
       "       0.12688039, 0.11923551, 0.14426634, 0.13292232, 0.05980271,\n",
       "       0.04796547, 0.14438964, 0.06313194, 0.04710234, 0.        ,\n",
       "       0.        , 0.        , 0.        ])"
      ]
     },
     "execution_count": 126,
     "metadata": {},
     "output_type": "execute_result"
    }
   ],
   "source": [
    "ochuman_array[:, :, 2].mean(0)"
   ]
  },
  {
   "cell_type": "markdown",
   "id": "3bc8ea4a",
   "metadata": {},
   "source": [
    "# Split"
   ]
  },
  {
   "cell_type": "code",
   "execution_count": 137,
   "id": "c7c9975e",
   "metadata": {},
   "outputs": [],
   "source": [
    "def get_splitindex(length) :\n",
    "    index_list = [i for i in range(length)]\n",
    "    random.shuffle(index_list)\n",
    "    first_cut = int(length * 0.7)\n",
    "    second_cut = int(length * 0.85)\n",
    "    \n",
    "    return index_list[:first_cut], index_list[first_cut : second_cut], index_list[second_cut:]"
   ]
  },
  {
   "cell_type": "code",
   "execution_count": 143,
   "id": "2decefcc",
   "metadata": {},
   "outputs": [],
   "source": [
    "def print_ratio(array) :\n",
    "    ratio = array[:, :, 2].mean(0)\n",
    "    print(ratio)"
   ]
  },
  {
   "cell_type": "code",
   "execution_count": 147,
   "id": "0ae321dd",
   "metadata": {},
   "outputs": [
    {
     "data": {
      "text/plain": [
       "(16716, 18, 3)"
      ]
     },
     "execution_count": 147,
     "metadata": {},
     "output_type": "execute_result"
    }
   ],
   "source": [
    "dataset.shape"
   ]
  },
  {
   "cell_type": "code",
   "execution_count": 138,
   "id": "ed6b8097",
   "metadata": {},
   "outputs": [],
   "source": [
    "length = dataset.shape[0]\n",
    "train_index, test_index, valid_index = get_splitindex(length)"
   ]
  },
  {
   "cell_type": "code",
   "execution_count": 151,
   "id": "cd2bd443",
   "metadata": {},
   "outputs": [
    {
     "name": "stdout",
     "output_type": "stream",
     "text": [
      "[0.         0.08606102 0.05503803 0.04785916 0.06033672 0.0615332\n",
      " 0.05666182 0.06931032 0.06409709 0.02803179 0.02230579 0.07059226\n",
      " 0.03051021 0.02298949 0.         0.         0.         0.        ]\n",
      "train ratio: None\n",
      "[0.         0.09254089 0.05384922 0.04866374 0.06461907 0.05823694\n",
      " 0.05704029 0.0733945  0.06222577 0.02512964 0.02114081 0.06820901\n",
      " 0.02752294 0.01994416 0.         0.         0.         0.        ]\n",
      "test ratio: None\n",
      "[0.         0.09370016 0.06180223 0.05342903 0.06020734 0.06499203\n",
      " 0.06419458 0.06977671 0.06858054 0.03748006 0.02990431 0.06937799\n",
      " 0.03429027 0.02511962 0.         0.         0.         0.        ]\n",
      "valid ratio: None\n"
     ]
    }
   ],
   "source": [
    "train = dataset[train_index]\n",
    "test = dataset[test_index]\n",
    "valid = dataset[valid_index]\n",
    "\n",
    "print('train ratio:', print_ratio(train))\n",
    "print('test ratio:', print_ratio(test))\n",
    "print('valid ratio:', print_ratio(valid))"
   ]
  },
  {
   "cell_type": "code",
   "execution_count": 152,
   "id": "b6b11518",
   "metadata": {},
   "outputs": [],
   "source": [
    "def array_to_df(array) :\n",
    "    y = array[:, :, 0].tolist()\n",
    "    x = array[:, :, 1].tolist()\n",
    "    label = array[:, :, 2].tolist()\n",
    "    \n",
    "    data_dict = {'keypoints_y' : y,\n",
    "                'keypoints_x' : x,\n",
    "                'label' : label}\n",
    "    df = pd.DataFrame.from_dict(data_dict)\n",
    "    return df\n",
    "    "
   ]
  },
  {
   "cell_type": "code",
   "execution_count": 154,
   "id": "0fde4866",
   "metadata": {},
   "outputs": [],
   "source": [
    "train_df = array_to_df(train)\n",
    "test_df = array_to_df(test)\n",
    "valid_df = array_to_df(valid)"
   ]
  },
  {
   "cell_type": "code",
   "execution_count": 158,
   "id": "baf26463",
   "metadata": {},
   "outputs": [],
   "source": [
    "train_df.to_csv('train_annotation.csv', index=False, sep=':')\n",
    "test_df.to_csv('test_annotation.csv', index=False, sep=':')\n",
    "valid_df.to_csv('valid_annotation.csv', index=False, sep=':')"
   ]
  },
  {
   "cell_type": "code",
   "execution_count": null,
   "id": "072c76da",
   "metadata": {},
   "outputs": [],
   "source": []
  }
 ],
 "metadata": {
  "kernelspec": {
   "display_name": "Python 3 (ipykernel)",
   "language": "python",
   "name": "python3"
  },
  "language_info": {
   "codemirror_mode": {
    "name": "ipython",
    "version": 3
   },
   "file_extension": ".py",
   "mimetype": "text/x-python",
   "name": "python",
   "nbconvert_exporter": "python",
   "pygments_lexer": "ipython3",
   "version": "3.8.0"
  }
 },
 "nbformat": 4,
 "nbformat_minor": 5
}
